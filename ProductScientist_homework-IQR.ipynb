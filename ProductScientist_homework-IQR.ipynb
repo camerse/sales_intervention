{
 "cells": [
  {
   "cell_type": "markdown",
   "metadata": {},
   "source": [
    "Add basic libraries"
   ]
  },
  {
   "cell_type": "code",
   "execution_count": 1,
   "metadata": {},
   "outputs": [],
   "source": [
    "import numpy as np \n",
    "import pandas as pd \n",
    "import sklearn\n",
    "import os\n",
    "import matplotlib.pyplot as plt\n",
    "%matplotlib inline\n",
    "import io\n",
    "import plotly.offline as py\n",
    "import plotly.graph_objs as go\n",
    "import plotly.tools as tls\n",
    "import plotly.subplots\n",
    "import plotly.figure_factory as ff"
   ]
  },
  {
   "cell_type": "markdown",
   "metadata": {},
   "source": [
    "Question 1\n",
    "How many leads are represented in this dataset? Describe both the assigned\n",
    "and unassigned populations. What is the average revenue of each group?"
   ]
  },
  {
   "cell_type": "markdown",
   "metadata": {},
   "source": [
    "The first several blocks of code will be reading in the dataset, data exploration, checking for outliers, dealing with missing data etc. Then I will calculate summary statistics to address Q1."
   ]
  },
  {
   "cell_type": "code",
   "execution_count": 2,
   "metadata": {},
   "outputs": [
    {
     "data": {
      "text/html": [
       "<div>\n",
       "<style scoped>\n",
       "    .dataframe tbody tr th:only-of-type {\n",
       "        vertical-align: middle;\n",
       "    }\n",
       "\n",
       "    .dataframe tbody tr th {\n",
       "        vertical-align: top;\n",
       "    }\n",
       "\n",
       "    .dataframe thead th {\n",
       "        text-align: right;\n",
       "    }\n",
       "</style>\n",
       "<table border=\"1\" class=\"dataframe\">\n",
       "  <thead>\n",
       "    <tr style=\"text-align: right;\">\n",
       "      <th></th>\n",
       "      <th>Unnamed: 0</th>\n",
       "      <th>advertiser_id</th>\n",
       "      <th>assigned</th>\n",
       "      <th>date_assignment_starts</th>\n",
       "      <th>date_assignment_ends</th>\n",
       "      <th>first_revenue_date</th>\n",
       "      <th>date_created</th>\n",
       "      <th>age</th>\n",
       "      <th>assign_days</th>\n",
       "      <th>revenue</th>\n",
       "    </tr>\n",
       "  </thead>\n",
       "  <tbody>\n",
       "    <tr>\n",
       "      <td>0</td>\n",
       "      <td>0</td>\n",
       "      <td>485</td>\n",
       "      <td>1</td>\n",
       "      <td>2017-02-01 00:00:00.000000</td>\n",
       "      <td>2017-06-19 12:12:37.888680</td>\n",
       "      <td>NaN</td>\n",
       "      <td>2006-07-14</td>\n",
       "      <td>3855</td>\n",
       "      <td>138</td>\n",
       "      <td>NaN</td>\n",
       "    </tr>\n",
       "    <tr>\n",
       "      <td>1</td>\n",
       "      <td>1</td>\n",
       "      <td>598</td>\n",
       "      <td>1</td>\n",
       "      <td>2017-02-01 00:00:00.000000</td>\n",
       "      <td>2017-06-19 12:12:37.888680</td>\n",
       "      <td>NaN</td>\n",
       "      <td>2006-08-02</td>\n",
       "      <td>3836</td>\n",
       "      <td>138</td>\n",
       "      <td>NaN</td>\n",
       "    </tr>\n",
       "    <tr>\n",
       "      <td>2</td>\n",
       "      <td>2</td>\n",
       "      <td>673</td>\n",
       "      <td>1</td>\n",
       "      <td>2017-02-01 00:00:00.000000</td>\n",
       "      <td>2017-04-28 15:36:30.000000</td>\n",
       "      <td>NaN</td>\n",
       "      <td>2006-08-17</td>\n",
       "      <td>3821</td>\n",
       "      <td>86</td>\n",
       "      <td>NaN</td>\n",
       "    </tr>\n",
       "    <tr>\n",
       "      <td>3</td>\n",
       "      <td>3</td>\n",
       "      <td>813</td>\n",
       "      <td>1</td>\n",
       "      <td>2017-02-01 00:00:00.000000</td>\n",
       "      <td>2017-06-19 12:12:37.888680</td>\n",
       "      <td>NaN</td>\n",
       "      <td>2006-09-12</td>\n",
       "      <td>3795</td>\n",
       "      <td>138</td>\n",
       "      <td>NaN</td>\n",
       "    </tr>\n",
       "    <tr>\n",
       "      <td>4</td>\n",
       "      <td>4</td>\n",
       "      <td>1132</td>\n",
       "      <td>1</td>\n",
       "      <td>2017-02-01 00:00:00.000000</td>\n",
       "      <td>2017-06-19 12:12:37.888680</td>\n",
       "      <td>NaN</td>\n",
       "      <td>2006-11-02</td>\n",
       "      <td>3744</td>\n",
       "      <td>138</td>\n",
       "      <td>NaN</td>\n",
       "    </tr>\n",
       "  </tbody>\n",
       "</table>\n",
       "</div>"
      ],
      "text/plain": [
       "   Unnamed: 0  advertiser_id  assigned      date_assignment_starts  \\\n",
       "0           0            485         1  2017-02-01 00:00:00.000000   \n",
       "1           1            598         1  2017-02-01 00:00:00.000000   \n",
       "2           2            673         1  2017-02-01 00:00:00.000000   \n",
       "3           3            813         1  2017-02-01 00:00:00.000000   \n",
       "4           4           1132         1  2017-02-01 00:00:00.000000   \n",
       "\n",
       "         date_assignment_ends first_revenue_date date_created   age  \\\n",
       "0  2017-06-19 12:12:37.888680                NaN   2006-07-14  3855   \n",
       "1  2017-06-19 12:12:37.888680                NaN   2006-08-02  3836   \n",
       "2  2017-04-28 15:36:30.000000                NaN   2006-08-17  3821   \n",
       "3  2017-06-19 12:12:37.888680                NaN   2006-09-12  3795   \n",
       "4  2017-06-19 12:12:37.888680                NaN   2006-11-02  3744   \n",
       "\n",
       "   assign_days  revenue  \n",
       "0          138      NaN  \n",
       "1          138      NaN  \n",
       "2           86      NaN  \n",
       "3          138      NaN  \n",
       "4          138      NaN  "
      ]
     },
     "execution_count": 2,
     "metadata": {},
     "output_type": "execute_result"
    }
   ],
   "source": [
    "sales = pd.read_csv(\"homework_data_set.csv\")\n",
    "sales = sales.dropna(how='all') # remove samples with all missing values\n",
    "sales = sales[~sales.duplicated()] # remove duplicates\n",
    "sales.head()"
   ]
  },
  {
   "cell_type": "markdown",
   "metadata": {},
   "source": [
    "I will do a quick overview of the data and then look for any outliers."
   ]
  },
  {
   "cell_type": "code",
   "execution_count": 3,
   "metadata": {},
   "outputs": [
    {
     "name": "stdout",
     "output_type": "stream",
     "text": [
      "Rows     :  77891\n",
      "Columns  :  10\n",
      "\n",
      "Features : \n",
      " ['Unnamed: 0', 'advertiser_id', 'assigned', 'date_assignment_starts', 'date_assignment_ends', 'first_revenue_date', 'date_created', 'age', 'assign_days', 'revenue']\n",
      "\n",
      "Missing values :   144009\n",
      "\n",
      "Unique values :  \n",
      " Unnamed: 0                77891\n",
      "advertiser_id             77891\n",
      "assigned                      2\n",
      "date_assignment_starts        3\n",
      "date_assignment_ends       6502\n",
      "first_revenue_date         1636\n",
      "date_created               2101\n",
      "age                        2131\n",
      "assign_days                 141\n",
      "revenue                    2966\n",
      "dtype: int64\n",
      "<class 'pandas.core.frame.DataFrame'>\n",
      "Int64Index: 77891 entries, 0 to 77890\n",
      "Data columns (total 10 columns):\n",
      "Unnamed: 0                77891 non-null int64\n",
      "advertiser_id             77891 non-null int64\n",
      "assigned                  77891 non-null int64\n",
      "date_assignment_starts    77891 non-null object\n",
      "date_assignment_ends      77891 non-null object\n",
      "first_revenue_date        8433 non-null object\n",
      "date_created              77891 non-null object\n",
      "age                       77891 non-null int64\n",
      "assign_days               77891 non-null int64\n",
      "revenue                   3340 non-null float64\n",
      "dtypes: float64(1), int64(5), object(4)\n",
      "memory usage: 6.5+ MB\n",
      "None\n"
     ]
    }
   ],
   "source": [
    "print (\"Rows     : \" ,sales.shape[0])\n",
    "print (\"Columns  : \" ,sales.shape[1])\n",
    "print (\"\\nFeatures : \\n\" ,sales.columns.tolist())\n",
    "print (\"\\nMissing values :  \", sales.isnull().sum().values.sum())\n",
    "print (\"\\nUnique values :  \\n\",sales.nunique())\n",
    "print(sales.info())"
   ]
  },
  {
   "cell_type": "markdown",
   "metadata": {},
   "source": [
    "According to our quick look, we have 77891 unique advertiser IDs representing 77891 leads. Now, I will calculate some summary statistics. I also have 144009 missing values. There are only 8433 values in first revenue date and 3340 values in revenue."
   ]
  },
  {
   "cell_type": "code",
   "execution_count": 4,
   "metadata": {},
   "outputs": [
    {
     "name": "stdout",
     "output_type": "stream",
     "text": [
      "         Unnamed: 0  advertiser_id      assigned           age   assign_days  \\\n",
      "count  77891.000000   7.789100e+04  77891.000000  77891.000000  77891.000000   \n",
      "mean   38945.000000   7.924271e+06      0.476037    309.958532    120.482546   \n",
      "std    22485.339246   3.918985e+06      0.499429    488.801166     39.527908   \n",
      "min        0.000000   4.850000e+02      0.000000    -27.000000     -2.000000   \n",
      "25%    19472.500000   4.317428e+06      0.000000      0.000000    136.000000   \n",
      "50%    38945.000000   1.078788e+07      0.000000      0.000000    137.000000   \n",
      "75%    58417.500000   1.080747e+07      1.000000    523.000000    138.000000   \n",
      "max    77890.000000   1.119963e+07      1.000000   3855.000000    138.000000   \n",
      "\n",
      "            revenue  \n",
      "count  3.340000e+03  \n",
      "mean   4.865177e+07  \n",
      "std    1.736891e+08  \n",
      "min    1.200000e+04  \n",
      "25%    6.398444e+06  \n",
      "50%    1.514775e+07  \n",
      "75%    3.704959e+07  \n",
      "max    6.533791e+09  \n"
     ]
    }
   ],
   "source": [
    "summary = sales.describe()\n",
    "print(summary)"
   ]
  },
  {
   "cell_type": "markdown",
   "metadata": {},
   "source": [
    "here I see that both age and assign have negative values (min of -27 and -2). I will delete these rows. There are also lots of zeros in age. I will want to investigate how age was calculated to see if this is correct. I can use datetime to calculate these myself and see if I can correct these errors. Also from looking at .info above the dates aren't actually stored as timedates. I will use timedate to calculate these ranges, so I can see what exactly these features represent.\n",
    "\n",
    "Also, assign days has no zero values for leads that were not assigned. Let me sort the data to see if I can understand why this is.\n",
    "\n",
    "I will also eventually need to decide how to treat the large amount of NaN in revenue and first_revenue_date. "
   ]
  },
  {
   "cell_type": "code",
   "execution_count": 5,
   "metadata": {},
   "outputs": [
    {
     "data": {
      "text/html": [
       "<div>\n",
       "<style scoped>\n",
       "    .dataframe tbody tr th:only-of-type {\n",
       "        vertical-align: middle;\n",
       "    }\n",
       "\n",
       "    .dataframe tbody tr th {\n",
       "        vertical-align: top;\n",
       "    }\n",
       "\n",
       "    .dataframe thead th {\n",
       "        text-align: right;\n",
       "    }\n",
       "</style>\n",
       "<table border=\"1\" class=\"dataframe\">\n",
       "  <thead>\n",
       "    <tr style=\"text-align: right;\">\n",
       "      <th></th>\n",
       "      <th>Unnamed: 0</th>\n",
       "      <th>advertiser_id</th>\n",
       "      <th>assigned</th>\n",
       "      <th>date_assignment_starts</th>\n",
       "      <th>date_assignment_ends</th>\n",
       "      <th>first_revenue_date</th>\n",
       "      <th>date_created</th>\n",
       "      <th>age</th>\n",
       "      <th>assign_days</th>\n",
       "      <th>revenue</th>\n",
       "    </tr>\n",
       "  </thead>\n",
       "  <tbody>\n",
       "    <tr>\n",
       "      <td>77890</td>\n",
       "      <td>77890</td>\n",
       "      <td>11199632</td>\n",
       "      <td>1</td>\n",
       "      <td>2017-02-01 00:00:00.000000</td>\n",
       "      <td>2017-06-19 12:12:37.888680</td>\n",
       "      <td>NaN</td>\n",
       "      <td>2017-02-28</td>\n",
       "      <td>-27</td>\n",
       "      <td>138</td>\n",
       "      <td>NaN</td>\n",
       "    </tr>\n",
       "    <tr>\n",
       "      <td>77889</td>\n",
       "      <td>77889</td>\n",
       "      <td>11199601</td>\n",
       "      <td>1</td>\n",
       "      <td>2017-02-01 00:00:00.000000</td>\n",
       "      <td>2017-06-19 12:12:37.888680</td>\n",
       "      <td>NaN</td>\n",
       "      <td>2017-02-28</td>\n",
       "      <td>-27</td>\n",
       "      <td>138</td>\n",
       "      <td>NaN</td>\n",
       "    </tr>\n",
       "    <tr>\n",
       "      <td>77888</td>\n",
       "      <td>77888</td>\n",
       "      <td>11146603</td>\n",
       "      <td>1</td>\n",
       "      <td>2017-02-01 00:00:00.000000</td>\n",
       "      <td>2017-06-19 12:12:37.888680</td>\n",
       "      <td>NaN</td>\n",
       "      <td>2017-02-24</td>\n",
       "      <td>-23</td>\n",
       "      <td>138</td>\n",
       "      <td>NaN</td>\n",
       "    </tr>\n",
       "    <tr>\n",
       "      <td>77887</td>\n",
       "      <td>77887</td>\n",
       "      <td>11142171</td>\n",
       "      <td>1</td>\n",
       "      <td>2017-02-01 00:00:00.000000</td>\n",
       "      <td>2017-06-19 12:12:37.888680</td>\n",
       "      <td>NaN</td>\n",
       "      <td>2017-02-23</td>\n",
       "      <td>-22</td>\n",
       "      <td>138</td>\n",
       "      <td>NaN</td>\n",
       "    </tr>\n",
       "    <tr>\n",
       "      <td>77886</td>\n",
       "      <td>77886</td>\n",
       "      <td>11140889</td>\n",
       "      <td>1</td>\n",
       "      <td>2017-02-01 00:00:00.000000</td>\n",
       "      <td>2017-06-19 12:12:37.888680</td>\n",
       "      <td>2017-02-23</td>\n",
       "      <td>2017-02-23</td>\n",
       "      <td>-22</td>\n",
       "      <td>138</td>\n",
       "      <td>9643000.0</td>\n",
       "    </tr>\n",
       "  </tbody>\n",
       "</table>\n",
       "</div>"
      ],
      "text/plain": [
       "       Unnamed: 0  advertiser_id  assigned      date_assignment_starts  \\\n",
       "77890       77890       11199632         1  2017-02-01 00:00:00.000000   \n",
       "77889       77889       11199601         1  2017-02-01 00:00:00.000000   \n",
       "77888       77888       11146603         1  2017-02-01 00:00:00.000000   \n",
       "77887       77887       11142171         1  2017-02-01 00:00:00.000000   \n",
       "77886       77886       11140889         1  2017-02-01 00:00:00.000000   \n",
       "\n",
       "             date_assignment_ends first_revenue_date date_created  age  \\\n",
       "77890  2017-06-19 12:12:37.888680                NaN   2017-02-28  -27   \n",
       "77889  2017-06-19 12:12:37.888680                NaN   2017-02-28  -27   \n",
       "77888  2017-06-19 12:12:37.888680                NaN   2017-02-24  -23   \n",
       "77887  2017-06-19 12:12:37.888680                NaN   2017-02-23  -22   \n",
       "77886  2017-06-19 12:12:37.888680         2017-02-23   2017-02-23  -22   \n",
       "\n",
       "       assign_days    revenue  \n",
       "77890          138        NaN  \n",
       "77889          138        NaN  \n",
       "77888          138        NaN  \n",
       "77887          138        NaN  \n",
       "77886          138  9643000.0  "
      ]
     },
     "execution_count": 5,
     "metadata": {},
     "output_type": "execute_result"
    }
   ],
   "source": [
    "sales = sales.sort_values(by=['age'])\n",
    "sales.head()"
   ]
  },
  {
   "cell_type": "markdown",
   "metadata": {},
   "source": [
    "Looking at these rows that have negative values for age we can see how this was calculated. There are accounts with age < 0 even if they have revenue. We can see that 'age' = 'date_assignment_starts' - 'date_created'. Obviously there was revenue that came in after this, I am going to create a new feature 'age_long' using the following formula 'total_age' = 'date_assignment_ends' - 'date_created'\n",
    "\n",
    "This makes sense because I am interested in the total age of the account, including the time that it was assigned. I will need to use datetime and timedelta to do this. I will also convert all of the dates to datetime format so I can use later if needed."
   ]
  },
  {
   "cell_type": "code",
   "execution_count": 6,
   "metadata": {},
   "outputs": [
    {
     "name": "stdout",
     "output_type": "stream",
     "text": [
      "<class 'pandas.core.frame.DataFrame'>\n",
      "Int64Index: 77891 entries, 77890 to 0\n",
      "Data columns (total 12 columns):\n",
      "Unnamed: 0                77891 non-null int64\n",
      "advertiser_id             77891 non-null int64\n",
      "assigned                  77891 non-null int64\n",
      "date_assignment_starts    77891 non-null datetime64[ns]\n",
      "date_assignment_ends      77891 non-null datetime64[ns]\n",
      "first_revenue_date        8433 non-null datetime64[ns]\n",
      "date_created              77891 non-null datetime64[ns]\n",
      "age                       77891 non-null int64\n",
      "assign_days               77891 non-null int64\n",
      "revenue                   3340 non-null float64\n",
      "False                     0 non-null float64\n",
      "total_age                 77891 non-null float64\n",
      "dtypes: datetime64[ns](4), float64(3), int64(5)\n",
      "memory usage: 7.7 MB\n",
      "None\n"
     ]
    },
    {
     "data": {
      "text/html": [
       "<div>\n",
       "<style scoped>\n",
       "    .dataframe tbody tr th:only-of-type {\n",
       "        vertical-align: middle;\n",
       "    }\n",
       "\n",
       "    .dataframe tbody tr th {\n",
       "        vertical-align: top;\n",
       "    }\n",
       "\n",
       "    .dataframe thead th {\n",
       "        text-align: right;\n",
       "    }\n",
       "</style>\n",
       "<table border=\"1\" class=\"dataframe\">\n",
       "  <thead>\n",
       "    <tr style=\"text-align: right;\">\n",
       "      <th></th>\n",
       "      <th>Unnamed: 0</th>\n",
       "      <th>advertiser_id</th>\n",
       "      <th>assigned</th>\n",
       "      <th>date_assignment_starts</th>\n",
       "      <th>date_assignment_ends</th>\n",
       "      <th>first_revenue_date</th>\n",
       "      <th>date_created</th>\n",
       "      <th>age</th>\n",
       "      <th>assign_days</th>\n",
       "      <th>revenue</th>\n",
       "      <th>False</th>\n",
       "      <th>total_age</th>\n",
       "    </tr>\n",
       "  </thead>\n",
       "  <tbody>\n",
       "    <tr>\n",
       "      <td>77890</td>\n",
       "      <td>77890</td>\n",
       "      <td>11199632</td>\n",
       "      <td>1</td>\n",
       "      <td>2017-02-01</td>\n",
       "      <td>2017-06-19 12:12:37.888680</td>\n",
       "      <td>NaT</td>\n",
       "      <td>2017-02-28</td>\n",
       "      <td>-27</td>\n",
       "      <td>138</td>\n",
       "      <td>NaN</td>\n",
       "      <td>NaN</td>\n",
       "      <td>111.508772</td>\n",
       "    </tr>\n",
       "    <tr>\n",
       "      <td>77889</td>\n",
       "      <td>77889</td>\n",
       "      <td>11199601</td>\n",
       "      <td>1</td>\n",
       "      <td>2017-02-01</td>\n",
       "      <td>2017-06-19 12:12:37.888680</td>\n",
       "      <td>NaT</td>\n",
       "      <td>2017-02-28</td>\n",
       "      <td>-27</td>\n",
       "      <td>138</td>\n",
       "      <td>NaN</td>\n",
       "      <td>NaN</td>\n",
       "      <td>111.508772</td>\n",
       "    </tr>\n",
       "    <tr>\n",
       "      <td>77888</td>\n",
       "      <td>77888</td>\n",
       "      <td>11146603</td>\n",
       "      <td>1</td>\n",
       "      <td>2017-02-01</td>\n",
       "      <td>2017-06-19 12:12:37.888680</td>\n",
       "      <td>NaT</td>\n",
       "      <td>2017-02-24</td>\n",
       "      <td>-23</td>\n",
       "      <td>138</td>\n",
       "      <td>NaN</td>\n",
       "      <td>NaN</td>\n",
       "      <td>115.508772</td>\n",
       "    </tr>\n",
       "    <tr>\n",
       "      <td>77887</td>\n",
       "      <td>77887</td>\n",
       "      <td>11142171</td>\n",
       "      <td>1</td>\n",
       "      <td>2017-02-01</td>\n",
       "      <td>2017-06-19 12:12:37.888680</td>\n",
       "      <td>NaT</td>\n",
       "      <td>2017-02-23</td>\n",
       "      <td>-22</td>\n",
       "      <td>138</td>\n",
       "      <td>NaN</td>\n",
       "      <td>NaN</td>\n",
       "      <td>116.508772</td>\n",
       "    </tr>\n",
       "    <tr>\n",
       "      <td>77886</td>\n",
       "      <td>77886</td>\n",
       "      <td>11140889</td>\n",
       "      <td>1</td>\n",
       "      <td>2017-02-01</td>\n",
       "      <td>2017-06-19 12:12:37.888680</td>\n",
       "      <td>2017-02-23</td>\n",
       "      <td>2017-02-23</td>\n",
       "      <td>-22</td>\n",
       "      <td>138</td>\n",
       "      <td>9643000.0</td>\n",
       "      <td>NaN</td>\n",
       "      <td>116.508772</td>\n",
       "    </tr>\n",
       "  </tbody>\n",
       "</table>\n",
       "</div>"
      ],
      "text/plain": [
       "       Unnamed: 0  advertiser_id  assigned date_assignment_starts  \\\n",
       "77890       77890       11199632         1             2017-02-01   \n",
       "77889       77889       11199601         1             2017-02-01   \n",
       "77888       77888       11146603         1             2017-02-01   \n",
       "77887       77887       11142171         1             2017-02-01   \n",
       "77886       77886       11140889         1             2017-02-01   \n",
       "\n",
       "            date_assignment_ends first_revenue_date date_created  age  \\\n",
       "77890 2017-06-19 12:12:37.888680                NaT   2017-02-28  -27   \n",
       "77889 2017-06-19 12:12:37.888680                NaT   2017-02-28  -27   \n",
       "77888 2017-06-19 12:12:37.888680                NaT   2017-02-24  -23   \n",
       "77887 2017-06-19 12:12:37.888680                NaT   2017-02-23  -22   \n",
       "77886 2017-06-19 12:12:37.888680         2017-02-23   2017-02-23  -22   \n",
       "\n",
       "       assign_days    revenue  False   total_age  \n",
       "77890          138        NaN    NaN  111.508772  \n",
       "77889          138        NaN    NaN  111.508772  \n",
       "77888          138        NaN    NaN  115.508772  \n",
       "77887          138        NaN    NaN  116.508772  \n",
       "77886          138  9643000.0    NaN  116.508772  "
      ]
     },
     "execution_count": 6,
     "metadata": {},
     "output_type": "execute_result"
    }
   ],
   "source": [
    "from datetime import timedelta, datetime\n",
    "sales[['date_assignment_starts']==0] = np.nan\n",
    "sales['date_assignment_starts'] = pd.to_datetime(sales['date_assignment_starts'])\n",
    "sales['date_assignment_ends'] = pd.to_datetime(sales['date_assignment_ends'])\n",
    "sales['date_created'] = pd.to_datetime(sales['date_created'])\n",
    "sales['first_revenue_date'] = pd.to_datetime(sales['first_revenue_date'])\n",
    "\n",
    "#create new variable total_age and convert from timedelta format to number\n",
    "sales['total_age'] = (sales.date_assignment_ends - sales.date_created).apply(lambda x: x/np.timedelta64(1,'D'))\n",
    "\n",
    "#create new dataframe called salesog\n",
    "salesog = pd.DataFrame(sales)\n",
    "print(sales.info())\n",
    "sales.head()"
   ]
  },
  {
   "cell_type": "markdown",
   "metadata": {},
   "source": [
    "We can see that total age more accurately reflects the entire age of the account. Lets now look at assign_days."
   ]
  },
  {
   "cell_type": "code",
   "execution_count": 7,
   "metadata": {
    "scrolled": false
   },
   "outputs": [
    {
     "data": {
      "text/html": [
       "<div>\n",
       "<style scoped>\n",
       "    .dataframe tbody tr th:only-of-type {\n",
       "        vertical-align: middle;\n",
       "    }\n",
       "\n",
       "    .dataframe tbody tr th {\n",
       "        vertical-align: top;\n",
       "    }\n",
       "\n",
       "    .dataframe thead th {\n",
       "        text-align: right;\n",
       "    }\n",
       "</style>\n",
       "<table border=\"1\" class=\"dataframe\">\n",
       "  <thead>\n",
       "    <tr style=\"text-align: right;\">\n",
       "      <th></th>\n",
       "      <th>Unnamed: 0</th>\n",
       "      <th>advertiser_id</th>\n",
       "      <th>assigned</th>\n",
       "      <th>date_assignment_starts</th>\n",
       "      <th>date_assignment_ends</th>\n",
       "      <th>first_revenue_date</th>\n",
       "      <th>date_created</th>\n",
       "      <th>age</th>\n",
       "      <th>assign_days</th>\n",
       "      <th>revenue</th>\n",
       "      <th>False</th>\n",
       "      <th>total_age</th>\n",
       "    </tr>\n",
       "  </thead>\n",
       "  <tbody>\n",
       "    <tr>\n",
       "      <td>39030</td>\n",
       "      <td>39030</td>\n",
       "      <td>10787965</td>\n",
       "      <td>1</td>\n",
       "      <td>2017-02-02</td>\n",
       "      <td>2017-02-01 09:51:20</td>\n",
       "      <td>NaT</td>\n",
       "      <td>2017-02-01</td>\n",
       "      <td>1</td>\n",
       "      <td>-2</td>\n",
       "      <td>NaN</td>\n",
       "      <td>NaN</td>\n",
       "      <td>0.410648</td>\n",
       "    </tr>\n",
       "    <tr>\n",
       "      <td>36123</td>\n",
       "      <td>36123</td>\n",
       "      <td>10785053</td>\n",
       "      <td>1</td>\n",
       "      <td>2017-02-02</td>\n",
       "      <td>2017-02-01 04:27:35</td>\n",
       "      <td>NaT</td>\n",
       "      <td>2017-02-01</td>\n",
       "      <td>1</td>\n",
       "      <td>-2</td>\n",
       "      <td>NaN</td>\n",
       "      <td>NaN</td>\n",
       "      <td>0.185822</td>\n",
       "    </tr>\n",
       "    <tr>\n",
       "      <td>34666</td>\n",
       "      <td>34666</td>\n",
       "      <td>10781793</td>\n",
       "      <td>1</td>\n",
       "      <td>2017-02-02</td>\n",
       "      <td>2017-02-02 02:06:38</td>\n",
       "      <td>NaT</td>\n",
       "      <td>2017-01-31</td>\n",
       "      <td>2</td>\n",
       "      <td>-1</td>\n",
       "      <td>NaN</td>\n",
       "      <td>NaN</td>\n",
       "      <td>2.087940</td>\n",
       "    </tr>\n",
       "    <tr>\n",
       "      <td>34659</td>\n",
       "      <td>34659</td>\n",
       "      <td>10781682</td>\n",
       "      <td>1</td>\n",
       "      <td>2017-02-02</td>\n",
       "      <td>2017-02-02 18:16:53</td>\n",
       "      <td>NaT</td>\n",
       "      <td>2017-01-31</td>\n",
       "      <td>2</td>\n",
       "      <td>-1</td>\n",
       "      <td>NaN</td>\n",
       "      <td>NaN</td>\n",
       "      <td>2.761725</td>\n",
       "    </tr>\n",
       "    <tr>\n",
       "      <td>35516</td>\n",
       "      <td>35516</td>\n",
       "      <td>10784445</td>\n",
       "      <td>1</td>\n",
       "      <td>2017-02-03</td>\n",
       "      <td>2017-02-03 00:02:34</td>\n",
       "      <td>NaT</td>\n",
       "      <td>2017-02-01</td>\n",
       "      <td>2</td>\n",
       "      <td>-1</td>\n",
       "      <td>NaN</td>\n",
       "      <td>NaN</td>\n",
       "      <td>2.001782</td>\n",
       "    </tr>\n",
       "    <tr>\n",
       "      <td>34657</td>\n",
       "      <td>34657</td>\n",
       "      <td>10781644</td>\n",
       "      <td>1</td>\n",
       "      <td>2017-02-02</td>\n",
       "      <td>2017-02-02 03:05:36</td>\n",
       "      <td>NaT</td>\n",
       "      <td>2017-01-31</td>\n",
       "      <td>2</td>\n",
       "      <td>-1</td>\n",
       "      <td>NaN</td>\n",
       "      <td>NaN</td>\n",
       "      <td>2.128889</td>\n",
       "    </tr>\n",
       "    <tr>\n",
       "      <td>34650</td>\n",
       "      <td>34650</td>\n",
       "      <td>10781520</td>\n",
       "      <td>1</td>\n",
       "      <td>2017-02-02</td>\n",
       "      <td>2017-02-02 03:26:43</td>\n",
       "      <td>NaT</td>\n",
       "      <td>2017-01-31</td>\n",
       "      <td>2</td>\n",
       "      <td>-1</td>\n",
       "      <td>NaN</td>\n",
       "      <td>NaN</td>\n",
       "      <td>2.143553</td>\n",
       "    </tr>\n",
       "    <tr>\n",
       "      <td>34235</td>\n",
       "      <td>34235</td>\n",
       "      <td>10765184</td>\n",
       "      <td>1</td>\n",
       "      <td>2017-02-02</td>\n",
       "      <td>2017-02-02 03:18:47</td>\n",
       "      <td>NaT</td>\n",
       "      <td>2017-01-31</td>\n",
       "      <td>2</td>\n",
       "      <td>-1</td>\n",
       "      <td>NaN</td>\n",
       "      <td>NaN</td>\n",
       "      <td>2.138044</td>\n",
       "    </tr>\n",
       "    <tr>\n",
       "      <td>34517</td>\n",
       "      <td>34517</td>\n",
       "      <td>10775233</td>\n",
       "      <td>1</td>\n",
       "      <td>2017-02-02</td>\n",
       "      <td>2017-02-02 03:05:51</td>\n",
       "      <td>NaT</td>\n",
       "      <td>2017-01-31</td>\n",
       "      <td>2</td>\n",
       "      <td>-1</td>\n",
       "      <td>NaN</td>\n",
       "      <td>NaN</td>\n",
       "      <td>2.129062</td>\n",
       "    </tr>\n",
       "    <tr>\n",
       "      <td>34270</td>\n",
       "      <td>34270</td>\n",
       "      <td>10765921</td>\n",
       "      <td>1</td>\n",
       "      <td>2017-02-02</td>\n",
       "      <td>2017-02-02 03:20:53</td>\n",
       "      <td>NaT</td>\n",
       "      <td>2017-01-31</td>\n",
       "      <td>2</td>\n",
       "      <td>-1</td>\n",
       "      <td>NaN</td>\n",
       "      <td>NaN</td>\n",
       "      <td>2.139502</td>\n",
       "    </tr>\n",
       "    <tr>\n",
       "      <td>34661</td>\n",
       "      <td>34661</td>\n",
       "      <td>10781721</td>\n",
       "      <td>1</td>\n",
       "      <td>2017-02-02</td>\n",
       "      <td>2017-02-02 03:28:43</td>\n",
       "      <td>NaT</td>\n",
       "      <td>2017-01-31</td>\n",
       "      <td>2</td>\n",
       "      <td>-1</td>\n",
       "      <td>NaN</td>\n",
       "      <td>NaN</td>\n",
       "      <td>2.144942</td>\n",
       "    </tr>\n",
       "    <tr>\n",
       "      <td>34340</td>\n",
       "      <td>34340</td>\n",
       "      <td>10768403</td>\n",
       "      <td>1</td>\n",
       "      <td>2017-02-02</td>\n",
       "      <td>2017-02-02 03:07:36</td>\n",
       "      <td>NaT</td>\n",
       "      <td>2017-01-31</td>\n",
       "      <td>2</td>\n",
       "      <td>-1</td>\n",
       "      <td>NaN</td>\n",
       "      <td>NaN</td>\n",
       "      <td>2.130278</td>\n",
       "    </tr>\n",
       "    <tr>\n",
       "      <td>34680</td>\n",
       "      <td>34680</td>\n",
       "      <td>10782134</td>\n",
       "      <td>1</td>\n",
       "      <td>2017-02-02</td>\n",
       "      <td>2017-02-02 02:57:57</td>\n",
       "      <td>NaT</td>\n",
       "      <td>2017-01-31</td>\n",
       "      <td>2</td>\n",
       "      <td>-1</td>\n",
       "      <td>NaN</td>\n",
       "      <td>NaN</td>\n",
       "      <td>2.123576</td>\n",
       "    </tr>\n",
       "    <tr>\n",
       "      <td>34730</td>\n",
       "      <td>34730</td>\n",
       "      <td>10783415</td>\n",
       "      <td>1</td>\n",
       "      <td>2017-02-02</td>\n",
       "      <td>2017-02-02 05:28:14</td>\n",
       "      <td>NaT</td>\n",
       "      <td>2017-01-31</td>\n",
       "      <td>2</td>\n",
       "      <td>-1</td>\n",
       "      <td>NaN</td>\n",
       "      <td>NaN</td>\n",
       "      <td>2.227940</td>\n",
       "    </tr>\n",
       "    <tr>\n",
       "      <td>34540</td>\n",
       "      <td>34540</td>\n",
       "      <td>10775934</td>\n",
       "      <td>1</td>\n",
       "      <td>2017-02-02</td>\n",
       "      <td>2017-02-02 03:24:37</td>\n",
       "      <td>NaT</td>\n",
       "      <td>2017-01-31</td>\n",
       "      <td>2</td>\n",
       "      <td>-1</td>\n",
       "      <td>NaN</td>\n",
       "      <td>NaN</td>\n",
       "      <td>2.142095</td>\n",
       "    </tr>\n",
       "    <tr>\n",
       "      <td>29696</td>\n",
       "      <td>29696</td>\n",
       "      <td>8999404</td>\n",
       "      <td>1</td>\n",
       "      <td>2017-02-02</td>\n",
       "      <td>2017-02-02 10:28:35</td>\n",
       "      <td>2017-03-29</td>\n",
       "      <td>2016-09-17</td>\n",
       "      <td>138</td>\n",
       "      <td>0</td>\n",
       "      <td>NaN</td>\n",
       "      <td>NaN</td>\n",
       "      <td>138.436516</td>\n",
       "    </tr>\n",
       "    <tr>\n",
       "      <td>49495</td>\n",
       "      <td>49495</td>\n",
       "      <td>10798517</td>\n",
       "      <td>1</td>\n",
       "      <td>2017-02-02</td>\n",
       "      <td>2017-02-02 22:40:50</td>\n",
       "      <td>NaT</td>\n",
       "      <td>2017-02-01</td>\n",
       "      <td>1</td>\n",
       "      <td>0</td>\n",
       "      <td>NaN</td>\n",
       "      <td>NaN</td>\n",
       "      <td>1.945023</td>\n",
       "    </tr>\n",
       "    <tr>\n",
       "      <td>50094</td>\n",
       "      <td>50094</td>\n",
       "      <td>10799119</td>\n",
       "      <td>1</td>\n",
       "      <td>2017-02-02</td>\n",
       "      <td>2017-02-02 22:41:38</td>\n",
       "      <td>NaT</td>\n",
       "      <td>2017-02-01</td>\n",
       "      <td>1</td>\n",
       "      <td>0</td>\n",
       "      <td>NaN</td>\n",
       "      <td>NaN</td>\n",
       "      <td>1.945579</td>\n",
       "    </tr>\n",
       "    <tr>\n",
       "      <td>48271</td>\n",
       "      <td>48271</td>\n",
       "      <td>10797284</td>\n",
       "      <td>1</td>\n",
       "      <td>2017-02-02</td>\n",
       "      <td>2017-02-02 14:31:19</td>\n",
       "      <td>2017-02-01</td>\n",
       "      <td>2017-02-01</td>\n",
       "      <td>1</td>\n",
       "      <td>0</td>\n",
       "      <td>30548000.0</td>\n",
       "      <td>NaN</td>\n",
       "      <td>1.605081</td>\n",
       "    </tr>\n",
       "    <tr>\n",
       "      <td>77172</td>\n",
       "      <td>77172</td>\n",
       "      <td>10826320</td>\n",
       "      <td>0</td>\n",
       "      <td>2017-02-03</td>\n",
       "      <td>2017-02-03 15:19:07</td>\n",
       "      <td>NaT</td>\n",
       "      <td>2017-02-03</td>\n",
       "      <td>0</td>\n",
       "      <td>0</td>\n",
       "      <td>NaN</td>\n",
       "      <td>NaN</td>\n",
       "      <td>0.638275</td>\n",
       "    </tr>\n",
       "  </tbody>\n",
       "</table>\n",
       "</div>"
      ],
      "text/plain": [
       "       Unnamed: 0  advertiser_id  assigned date_assignment_starts  \\\n",
       "39030       39030       10787965         1             2017-02-02   \n",
       "36123       36123       10785053         1             2017-02-02   \n",
       "34666       34666       10781793         1             2017-02-02   \n",
       "34659       34659       10781682         1             2017-02-02   \n",
       "35516       35516       10784445         1             2017-02-03   \n",
       "34657       34657       10781644         1             2017-02-02   \n",
       "34650       34650       10781520         1             2017-02-02   \n",
       "34235       34235       10765184         1             2017-02-02   \n",
       "34517       34517       10775233         1             2017-02-02   \n",
       "34270       34270       10765921         1             2017-02-02   \n",
       "34661       34661       10781721         1             2017-02-02   \n",
       "34340       34340       10768403         1             2017-02-02   \n",
       "34680       34680       10782134         1             2017-02-02   \n",
       "34730       34730       10783415         1             2017-02-02   \n",
       "34540       34540       10775934         1             2017-02-02   \n",
       "29696       29696        8999404         1             2017-02-02   \n",
       "49495       49495       10798517         1             2017-02-02   \n",
       "50094       50094       10799119         1             2017-02-02   \n",
       "48271       48271       10797284         1             2017-02-02   \n",
       "77172       77172       10826320         0             2017-02-03   \n",
       "\n",
       "      date_assignment_ends first_revenue_date date_created  age  assign_days  \\\n",
       "39030  2017-02-01 09:51:20                NaT   2017-02-01    1           -2   \n",
       "36123  2017-02-01 04:27:35                NaT   2017-02-01    1           -2   \n",
       "34666  2017-02-02 02:06:38                NaT   2017-01-31    2           -1   \n",
       "34659  2017-02-02 18:16:53                NaT   2017-01-31    2           -1   \n",
       "35516  2017-02-03 00:02:34                NaT   2017-02-01    2           -1   \n",
       "34657  2017-02-02 03:05:36                NaT   2017-01-31    2           -1   \n",
       "34650  2017-02-02 03:26:43                NaT   2017-01-31    2           -1   \n",
       "34235  2017-02-02 03:18:47                NaT   2017-01-31    2           -1   \n",
       "34517  2017-02-02 03:05:51                NaT   2017-01-31    2           -1   \n",
       "34270  2017-02-02 03:20:53                NaT   2017-01-31    2           -1   \n",
       "34661  2017-02-02 03:28:43                NaT   2017-01-31    2           -1   \n",
       "34340  2017-02-02 03:07:36                NaT   2017-01-31    2           -1   \n",
       "34680  2017-02-02 02:57:57                NaT   2017-01-31    2           -1   \n",
       "34730  2017-02-02 05:28:14                NaT   2017-01-31    2           -1   \n",
       "34540  2017-02-02 03:24:37                NaT   2017-01-31    2           -1   \n",
       "29696  2017-02-02 10:28:35         2017-03-29   2016-09-17  138            0   \n",
       "49495  2017-02-02 22:40:50                NaT   2017-02-01    1            0   \n",
       "50094  2017-02-02 22:41:38                NaT   2017-02-01    1            0   \n",
       "48271  2017-02-02 14:31:19         2017-02-01   2017-02-01    1            0   \n",
       "77172  2017-02-03 15:19:07                NaT   2017-02-03    0            0   \n",
       "\n",
       "          revenue  False   total_age  \n",
       "39030         NaN    NaN    0.410648  \n",
       "36123         NaN    NaN    0.185822  \n",
       "34666         NaN    NaN    2.087940  \n",
       "34659         NaN    NaN    2.761725  \n",
       "35516         NaN    NaN    2.001782  \n",
       "34657         NaN    NaN    2.128889  \n",
       "34650         NaN    NaN    2.143553  \n",
       "34235         NaN    NaN    2.138044  \n",
       "34517         NaN    NaN    2.129062  \n",
       "34270         NaN    NaN    2.139502  \n",
       "34661         NaN    NaN    2.144942  \n",
       "34340         NaN    NaN    2.130278  \n",
       "34680         NaN    NaN    2.123576  \n",
       "34730         NaN    NaN    2.227940  \n",
       "34540         NaN    NaN    2.142095  \n",
       "29696         NaN    NaN  138.436516  \n",
       "49495         NaN    NaN    1.945023  \n",
       "50094         NaN    NaN    1.945579  \n",
       "48271  30548000.0    NaN    1.605081  \n",
       "77172         NaN    NaN    0.638275  "
      ]
     },
     "execution_count": 7,
     "metadata": {},
     "output_type": "execute_result"
    }
   ],
   "source": [
    "sales = sales.sort_values(by=['assign_days'])\n",
    "sales.head(n=20)"
   ]
  },
  {
   "cell_type": "markdown",
   "metadata": {},
   "source": [
    "Some of these accounts start before they end. This doesn't make much sense. I will delete these rows. Alternatively, I could use clip to assign all these to zero. There are fewer than 20 points, so I will just delete."
   ]
  },
  {
   "cell_type": "code",
   "execution_count": 8,
   "metadata": {},
   "outputs": [
    {
     "name": "stdout",
     "output_type": "stream",
     "text": [
      "<class 'pandas.core.frame.DataFrame'>\n",
      "Int64Index: 77876 entries, 29696 to 0\n",
      "Data columns (total 12 columns):\n",
      "Unnamed: 0                77876 non-null int64\n",
      "advertiser_id             77876 non-null int64\n",
      "assigned                  77876 non-null int64\n",
      "date_assignment_starts    77876 non-null datetime64[ns]\n",
      "date_assignment_ends      77876 non-null datetime64[ns]\n",
      "first_revenue_date        8433 non-null datetime64[ns]\n",
      "date_created              77876 non-null datetime64[ns]\n",
      "age                       77876 non-null int64\n",
      "assign_days               77876 non-null int64\n",
      "revenue                   3340 non-null float64\n",
      "False                     0 non-null float64\n",
      "total_age                 77876 non-null float64\n",
      "dtypes: datetime64[ns](4), float64(3), int64(5)\n",
      "memory usage: 7.7 MB\n",
      "None\n"
     ]
    },
    {
     "data": {
      "text/html": [
       "<div>\n",
       "<style scoped>\n",
       "    .dataframe tbody tr th:only-of-type {\n",
       "        vertical-align: middle;\n",
       "    }\n",
       "\n",
       "    .dataframe tbody tr th {\n",
       "        vertical-align: top;\n",
       "    }\n",
       "\n",
       "    .dataframe thead th {\n",
       "        text-align: right;\n",
       "    }\n",
       "</style>\n",
       "<table border=\"1\" class=\"dataframe\">\n",
       "  <thead>\n",
       "    <tr style=\"text-align: right;\">\n",
       "      <th></th>\n",
       "      <th>Unnamed: 0</th>\n",
       "      <th>advertiser_id</th>\n",
       "      <th>assigned</th>\n",
       "      <th>date_assignment_starts</th>\n",
       "      <th>date_assignment_ends</th>\n",
       "      <th>first_revenue_date</th>\n",
       "      <th>date_created</th>\n",
       "      <th>age</th>\n",
       "      <th>assign_days</th>\n",
       "      <th>revenue</th>\n",
       "      <th>False</th>\n",
       "      <th>total_age</th>\n",
       "    </tr>\n",
       "  </thead>\n",
       "  <tbody>\n",
       "    <tr>\n",
       "      <td>29696</td>\n",
       "      <td>29696</td>\n",
       "      <td>8999404</td>\n",
       "      <td>1</td>\n",
       "      <td>2017-02-02</td>\n",
       "      <td>2017-02-02 10:28:35</td>\n",
       "      <td>2017-03-29</td>\n",
       "      <td>2016-09-17</td>\n",
       "      <td>138</td>\n",
       "      <td>0</td>\n",
       "      <td>NaN</td>\n",
       "      <td>NaN</td>\n",
       "      <td>138.436516</td>\n",
       "    </tr>\n",
       "    <tr>\n",
       "      <td>49495</td>\n",
       "      <td>49495</td>\n",
       "      <td>10798517</td>\n",
       "      <td>1</td>\n",
       "      <td>2017-02-02</td>\n",
       "      <td>2017-02-02 22:40:50</td>\n",
       "      <td>NaT</td>\n",
       "      <td>2017-02-01</td>\n",
       "      <td>1</td>\n",
       "      <td>0</td>\n",
       "      <td>NaN</td>\n",
       "      <td>NaN</td>\n",
       "      <td>1.945023</td>\n",
       "    </tr>\n",
       "    <tr>\n",
       "      <td>50094</td>\n",
       "      <td>50094</td>\n",
       "      <td>10799119</td>\n",
       "      <td>1</td>\n",
       "      <td>2017-02-02</td>\n",
       "      <td>2017-02-02 22:41:38</td>\n",
       "      <td>NaT</td>\n",
       "      <td>2017-02-01</td>\n",
       "      <td>1</td>\n",
       "      <td>0</td>\n",
       "      <td>NaN</td>\n",
       "      <td>NaN</td>\n",
       "      <td>1.945579</td>\n",
       "    </tr>\n",
       "    <tr>\n",
       "      <td>48271</td>\n",
       "      <td>48271</td>\n",
       "      <td>10797284</td>\n",
       "      <td>1</td>\n",
       "      <td>2017-02-02</td>\n",
       "      <td>2017-02-02 14:31:19</td>\n",
       "      <td>2017-02-01</td>\n",
       "      <td>2017-02-01</td>\n",
       "      <td>1</td>\n",
       "      <td>0</td>\n",
       "      <td>30548000.0</td>\n",
       "      <td>NaN</td>\n",
       "      <td>1.605081</td>\n",
       "    </tr>\n",
       "    <tr>\n",
       "      <td>77172</td>\n",
       "      <td>77172</td>\n",
       "      <td>10826320</td>\n",
       "      <td>0</td>\n",
       "      <td>2017-02-03</td>\n",
       "      <td>2017-02-03 15:19:07</td>\n",
       "      <td>NaT</td>\n",
       "      <td>2017-02-03</td>\n",
       "      <td>0</td>\n",
       "      <td>0</td>\n",
       "      <td>NaN</td>\n",
       "      <td>NaN</td>\n",
       "      <td>0.638275</td>\n",
       "    </tr>\n",
       "  </tbody>\n",
       "</table>\n",
       "</div>"
      ],
      "text/plain": [
       "       Unnamed: 0  advertiser_id  assigned date_assignment_starts  \\\n",
       "29696       29696        8999404         1             2017-02-02   \n",
       "49495       49495       10798517         1             2017-02-02   \n",
       "50094       50094       10799119         1             2017-02-02   \n",
       "48271       48271       10797284         1             2017-02-02   \n",
       "77172       77172       10826320         0             2017-02-03   \n",
       "\n",
       "      date_assignment_ends first_revenue_date date_created  age  assign_days  \\\n",
       "29696  2017-02-02 10:28:35         2017-03-29   2016-09-17  138            0   \n",
       "49495  2017-02-02 22:40:50                NaT   2017-02-01    1            0   \n",
       "50094  2017-02-02 22:41:38                NaT   2017-02-01    1            0   \n",
       "48271  2017-02-02 14:31:19         2017-02-01   2017-02-01    1            0   \n",
       "77172  2017-02-03 15:19:07                NaT   2017-02-03    0            0   \n",
       "\n",
       "          revenue  False   total_age  \n",
       "29696         NaN    NaN  138.436516  \n",
       "49495         NaN    NaN    1.945023  \n",
       "50094         NaN    NaN    1.945579  \n",
       "48271  30548000.0    NaN    1.605081  \n",
       "77172         NaN    NaN    0.638275  "
      ]
     },
     "execution_count": 8,
     "metadata": {},
     "output_type": "execute_result"
    }
   ],
   "source": [
    "sales = sales[sales.assign_days >= 0] #delete rows with negative values\n",
    "print(sales.info())\n",
    "sales.head()"
   ]
  },
  {
   "cell_type": "markdown",
   "metadata": {},
   "source": [
    "Assign_days has values for both assigned=0 and 1. We can see that assign_days = date_assignment_ends - date_assignment_starts even for leads that weren't assigned. I will correct assign_days so there is a zero value for leads that were not assigned in case I want to use this variable later. I can do this by multiplying assign_days*assigned"
   ]
  },
  {
   "cell_type": "code",
   "execution_count": 9,
   "metadata": {},
   "outputs": [
    {
     "name": "stdout",
     "output_type": "stream",
     "text": [
      "         Unnamed: 0  advertiser_id      assigned           age   assign_days  \\\n",
      "count  77876.000000   7.787600e+04  77876.000000  77876.000000  77876.000000   \n",
      "mean   38945.756343   7.923721e+06      0.475936    310.017875     55.514202   \n",
      "std    22487.432756   3.919162e+06      0.499424    488.829535     65.170448   \n",
      "min        0.000000   4.850000e+02      0.000000    -27.000000      0.000000   \n",
      "25%    19468.750000   4.316706e+06      0.000000      0.000000      0.000000   \n",
      "50%    38951.500000   1.078789e+07      0.000000      0.000000      0.000000   \n",
      "75%    58421.250000   1.080748e+07      1.000000    524.000000    138.000000   \n",
      "max    77890.000000   1.119963e+07      1.000000   3855.000000    138.000000   \n",
      "\n",
      "            revenue  False     total_age  \n",
      "count  3.340000e+03    0.0  77876.000000  \n",
      "mean   4.865177e+07    NaN    431.289259  \n",
      "std    1.736891e+08    NaN    492.992126  \n",
      "min    1.200000e+04    NaN      0.196505  \n",
      "25%    6.398444e+06    NaN    137.508772  \n",
      "50%    1.514775e+07    NaN    138.508772  \n",
      "75%    3.704959e+07    NaN    642.508772  \n",
      "max    6.533791e+09    NaN   3993.508772  \n"
     ]
    }
   ],
   "source": [
    "sales['assign_days'] = sales.assign_days * sales.assigned\n",
    "summary = sales.describe()\n",
    "print(summary)"
   ]
  },
  {
   "cell_type": "markdown",
   "metadata": {},
   "source": [
    "My data is looking better but I need to decide what to do with the NaN values. Looking above, There are a significant number of NaN values in revenue and first_revenue_date. There are only 8433 values in first_revenue_date and only 3340 values in revenue. This is 90% of the data, so I can't just throw these rows with naN out. I would assume that perhaps these null values are zero - no sales, this would make sense, out of the 77K values, only 3323 resulted in sales. However, its not clear how there could be a value for first_revenue_date, but not revenue. Looking at the summary stats for revenue, we see that there are no zeros in the data (min is 12000), therefore I have confidence that at least for revenue, these null values are actually zeros. I will replace these NaN with 0. \n",
    "\n",
    "For first_revenue_date, I will replace the NaN with 0 also and leave the dates that have values but are null (0) for revenue, but may need to revisit this later. "
   ]
  },
  {
   "cell_type": "code",
   "execution_count": 10,
   "metadata": {},
   "outputs": [
    {
     "name": "stdout",
     "output_type": "stream",
     "text": [
      "         Unnamed: 0  advertiser_id      assigned           age   assign_days  \\\n",
      "count  77876.000000   7.787600e+04  77876.000000  77876.000000  77876.000000   \n",
      "mean   38945.756343   7.923721e+06      0.475936    310.017875     55.514202   \n",
      "std    22487.432756   3.919162e+06      0.499424    488.829535     65.170448   \n",
      "min        0.000000   4.850000e+02      0.000000    -27.000000      0.000000   \n",
      "25%    19468.750000   4.316706e+06      0.000000      0.000000      0.000000   \n",
      "50%    38951.500000   1.078789e+07      0.000000      0.000000      0.000000   \n",
      "75%    58421.250000   1.080748e+07      1.000000    524.000000    138.000000   \n",
      "max    77890.000000   1.119963e+07      1.000000   3855.000000    138.000000   \n",
      "\n",
      "            revenue    False     total_age  \n",
      "count  7.787600e+04  77876.0  77876.000000  \n",
      "mean   2.086611e+06      0.0    431.289259  \n",
      "std    3.729150e+07      0.0    492.992126  \n",
      "min    0.000000e+00      0.0      0.196505  \n",
      "25%    0.000000e+00      0.0    137.508772  \n",
      "50%    0.000000e+00      0.0    138.508772  \n",
      "75%    0.000000e+00      0.0    642.508772  \n",
      "max    6.533791e+09      0.0   3993.508772  \n",
      "<class 'pandas.core.frame.DataFrame'>\n",
      "Int64Index: 77876 entries, 29696 to 0\n",
      "Data columns (total 12 columns):\n",
      "Unnamed: 0                77876 non-null int64\n",
      "advertiser_id             77876 non-null int64\n",
      "assigned                  77876 non-null int64\n",
      "date_assignment_starts    77876 non-null datetime64[ns]\n",
      "date_assignment_ends      77876 non-null datetime64[ns]\n",
      "first_revenue_date        77876 non-null object\n",
      "date_created              77876 non-null datetime64[ns]\n",
      "age                       77876 non-null int64\n",
      "assign_days               77876 non-null int64\n",
      "revenue                   77876 non-null float64\n",
      "False                     77876 non-null float64\n",
      "total_age                 77876 non-null float64\n",
      "dtypes: datetime64[ns](3), float64(3), int64(5), object(1)\n",
      "memory usage: 7.7+ MB\n",
      "None\n"
     ]
    }
   ],
   "source": [
    "sales.fillna(0, inplace=True)#I know from sales.info above that the only NaN are in first_revenue_date and revenue\n",
    "summary = sales.describe()\n",
    "print(summary)\n",
    "print(sales.info())"
   ]
  },
  {
   "cell_type": "markdown",
   "metadata": {},
   "source": [
    "Now that my dataframe is complete, I will look at the assigned and unassigned data as histograms and scatter plot to look for any obvious errors. "
   ]
  },
  {
   "cell_type": "code",
   "execution_count": 11,
   "metadata": {
    "scrolled": true
   },
   "outputs": [
    {
     "data": {
      "text/plain": [
       "array([<matplotlib.axes._subplots.AxesSubplot object at 0x1c1fdaf5c0>,\n",
       "       <matplotlib.axes._subplots.AxesSubplot object at 0x1c1fedfc18>,\n",
       "       <matplotlib.axes._subplots.AxesSubplot object at 0x1c20082208>],\n",
       "      dtype=object)"
      ]
     },
     "execution_count": 11,
     "metadata": {},
     "output_type": "execute_result"
    },
    {
     "data": {
      "image/png": "[encoded data removed]",
      "text/plain": [
       "<Figure size 720x504 with 4 Axes>"
      ]
     },
     "metadata": {
      "needs_background": "light"
     },
     "output_type": "display_data"
    },
    {
     "data": {
      "image/png": "[encoded data removed]",
      "text/plain": [
       "<Figure size 1008x288 with 3 Axes>"
      ]
     },
     "metadata": {
      "needs_background": "light"
     },
     "output_type": "display_data"
    }
   ],
   "source": [
    "num_cols   = ['total_age','assign_days','revenue']\n",
    "\n",
    "sales[num_cols].hist(bins=30, figsize=(10, 7))\n",
    "\n",
    "fig, ax = plt.subplots(1, 3, figsize=(14, 4))\n",
    "sales[sales.assigned == 0][num_cols].hist(bins=30, color=\"blue\", alpha=0.5, ax=ax)\n",
    "sales[sales.assigned == 1][num_cols].hist(bins=30, color=\"red\", alpha=0.5, ax=ax)"
   ]
  },
  {
   "cell_type": "markdown",
   "metadata": {},
   "source": [
    "The histograms give me some quick info about the dataset - the age is highly skewed with most leads very young (0 days) and assign_days is highly skewed with most leads around 137. I didn't do it here, but we could calculate the mode to get these exact values. Just from the histograms we can see that the leads that were assigned tend to be older and revenue tends to be higher. The histograms don't give me much info about ouliers though. \n",
    "\n",
    "I can use boxplots and scatter plots to look for outliers."
   ]
  },
  {
   "cell_type": "code",
   "execution_count": 12,
   "metadata": {},
   "outputs": [
    {
     "data": {
      "text/plain": [
       "<matplotlib.axes._subplots.AxesSubplot at 0x1c24e94a58>"
      ]
     },
     "execution_count": 12,
     "metadata": {},
     "output_type": "execute_result"
    },
    {
     "data": {
      "image/png": "[encoded data removed]",
      "text/plain": [
       "<Figure size 432x288 with 1 Axes>"
      ]
     },
     "metadata": {
      "needs_background": "light"
     },
     "output_type": "display_data"
    },
    {
     "data": {
      "image/png": "[encoded data removed]",
      "text/plain": [
       "<Figure size 432x288 with 1 Axes>"
      ]
     },
     "metadata": {
      "needs_background": "light"
     },
     "output_type": "display_data"
    },
    {
     "data": {
      "image/png": "[encoded data removed]",
      "text/plain": [
       "<Figure size 432x288 with 1 Axes>"
      ]
     },
     "metadata": {
      "needs_background": "light"
     },
     "output_type": "display_data"
    },
    {
     "data": {
      "image/png": "[encoded data removed]",
      "text/plain": [
       "<Figure size 432x288 with 2 Axes>"
      ]
     },
     "metadata": {
      "needs_background": "light"
     },
     "output_type": "display_data"
    },
    {
     "data": {
      "image/png": "[encoded data removed]",
      "text/plain": [
       "<Figure size 432x288 with 2 Axes>"
      ]
     },
     "metadata": {
      "needs_background": "light"
     },
     "output_type": "display_data"
    }
   ],
   "source": [
    "sales.boxplot(by ='assigned', column =[\"total_age\"], grid = False) \n",
    "sales.boxplot(by ='assigned', column =[\"assign_days\"], grid = False) \n",
    "sales.boxplot(by ='assigned', column =[\"revenue\"], grid = False) \n",
    "sales.plot.scatter(x='total_age',y='revenue',c='assigned',colormap='RdBu')\n",
    "sales.plot.scatter(x='assign_days',y='revenue',c='assigned',colormap='RdBu')"
   ]
  },
  {
   "cell_type": "markdown",
   "metadata": {},
   "source": [
    "Its obvious from the data that there is an outlier/s in the revenue. I will delete those values. Because I am not very familiar with this dataset, it is difficult for me to tell if there are other outliers in the data or if they are \"real\" but from this first check, the only data I am going to delete are these very high revenue values. Its important not to get rid of data just becuase it is an outlier, it may have real signal. If this was a real dataset type that was new to me, I would compare with other datasets that are similar to see what range of variation is expected, as there could be other outliers/errors. Lets delete these high values and then recheck our plots. Depending on the type of data and application, we can use inter quartile range to eliminate outliers. Here, I am going to remove just the high revenue data but in an earlier version, I used IQR to remove. I will show my code for that below."
   ]
  },
  {
   "cell_type": "markdown",
   "metadata": {},
   "source": [
    "#here is the IQR method for removing outliers.\n",
    "\n",
    "Its obvious from the data that there is an outlier in the revenue. I will delete those values. Because I am not very familiar with this dataset, it is difficult for me to tell if there are other outliers in the data or if they are \"real\". Its important not to get rid of data just becuase it is an outlier, it may have real signal. If this was a real dataset type that was new to me, I would compare with other datasets that are similar to see what range of variation is expected. However, for this exercise in the interest of time, I will apply IQR filtering to all numerical columns.\n",
    "\n",
    "I will use IQR to delete outliers in revenue (alternative is +/- 3 SD). Next, I will recheck my histograms and summary statistics, once the data is clean I can begin analysis.\n",
    "\n",
    "\n",
    "Q1 = df.quantile(0.25)\n",
    "Q3 = df.quantile(0.75)\n",
    "IQR = Q3 - Q1\n",
    "\n",
    "df_outlier = df[~((df < (Q1 - 1.5 * IQR)) |(df > (Q3 + 1.5 * IQR))).any(axis=1)]\n",
    "\n",
    "df_outlier.boxplot(by ='assigned', column =[\"age\"], grid = False) \n",
    "df_outlier.boxplot(by ='assigned', column =[\"assign_days\"], grid = False) \n",
    "df_outlier.boxplot(by ='assigned', column =[\"revenue\"], grid = False) \n",
    "\n",
    "summary = df_outlier.describe()\n",
    "print(summary)\n",
    "print(df_outlier.info())\n",
    "\n",
    "IQR substantially reduced the dataset (from 77k to 59k but the box plots look much better. Again, I don't want to apply IQR to all columns without know that something is truly an error, but in the interest of time without additional info about the dataset, this approach works."
   ]
  },
  {
   "cell_type": "code",
   "execution_count": 13,
   "metadata": {},
   "outputs": [
    {
     "data": {
      "text/plain": [
       "<matplotlib.axes._subplots.AxesSubplot at 0x1c25d43da0>"
      ]
     },
     "execution_count": 13,
     "metadata": {},
     "output_type": "execute_result"
    },
    {
     "data": {
      "image/png": "[encoded data removed]",
      "text/plain": [
       "<Figure size 432x288 with 1 Axes>"
      ]
     },
     "metadata": {
      "needs_background": "light"
     },
     "output_type": "display_data"
    },
    {
     "data": {
      "image/png": "[encoded data removed]",
      "text/plain": [
       "<Figure size 432x288 with 1 Axes>"
      ]
     },
     "metadata": {
      "needs_background": "light"
     },
     "output_type": "display_data"
    },
    {
     "data": {
      "image/png": "[encoded data removed]",
      "text/plain": [
       "<Figure size 432x288 with 1 Axes>"
      ]
     },
     "metadata": {
      "needs_background": "light"
     },
     "output_type": "display_data"
    },
    {
     "data": {
      "image/png": "[encoded data removed]",
      "text/plain": [
       "<Figure size 432x288 with 2 Axes>"
      ]
     },
     "metadata": {
      "needs_background": "light"
     },
     "output_type": "display_data"
    },
    {
     "data": {
      "image/png": "[encoded data removed]",
      "text/plain": [
       "<Figure size 432x288 with 2 Axes>"
      ]
     },
     "metadata": {
      "needs_background": "light"
     },
     "output_type": "display_data"
    }
   ],
   "source": [
    "#this is how I actually removed outliers\n",
    "sales = sales[sales.revenue < 6533791000] #we can see from the scatterplot that there is a single outlier value, so I used the max from the summary stats to find the actualy value\n",
    "sales.boxplot(by ='assigned', column =[\"total_age\"], grid = False) \n",
    "sales.boxplot(by ='assigned', column =[\"assign_days\"], grid = False) \n",
    "sales.boxplot(by ='assigned', column =[\"revenue\"], grid = False) \n",
    "sales.plot.scatter(x='total_age',y='revenue',c='assigned',colormap='RdBu')\n",
    "sales.plot.scatter(x='assign_days',y='revenue',c='assigned',colormap='RdBu')"
   ]
  },
  {
   "cell_type": "code",
   "execution_count": 14,
   "metadata": {},
   "outputs": [
    {
     "name": "stdout",
     "output_type": "stream",
     "text": [
      "         Unnamed: 0  advertiser_id      assigned           age   assign_days  \\\n",
      "count  77875.000000   7.787500e+04  77875.000000  77875.000000  77875.000000   \n",
      "mean   38945.283210   7.923684e+06      0.475942    310.021856     55.514915   \n",
      "std    22487.189518   3.919173e+06      0.499424    488.831411     65.170563   \n",
      "min        0.000000   4.850000e+02      0.000000    -27.000000      0.000000   \n",
      "25%    19468.500000   4.316560e+06      0.000000      0.000000      0.000000   \n",
      "50%    38951.000000   1.078789e+07      0.000000      0.000000      0.000000   \n",
      "75%    58420.500000   1.080747e+07      1.000000    524.000000    138.000000   \n",
      "max    77890.000000   1.119963e+07      1.000000   3855.000000    138.000000   \n",
      "\n",
      "            revenue    False     total_age  \n",
      "count  7.787500e+04  77875.0  77875.000000  \n",
      "mean   2.002737e+06      0.0    431.294742  \n",
      "std    2.903133e+07      0.0    492.992917  \n",
      "min    0.000000e+00      0.0      0.196505  \n",
      "25%    0.000000e+00      0.0    137.508772  \n",
      "50%    0.000000e+00      0.0    138.508772  \n",
      "75%    0.000000e+00      0.0    642.508772  \n",
      "max    2.500000e+09      0.0   3993.508772  \n"
     ]
    }
   ],
   "source": [
    "summary = sales.describe()\n",
    "print(summary)"
   ]
  },
  {
   "cell_type": "markdown",
   "metadata": {},
   "source": [
    "We have cleaned our data, created a new variable and removed outliers. Lets finish answering Q1 and save our cleaned data as a new dataframe and csv file."
   ]
  },
  {
   "cell_type": "code",
   "execution_count": 15,
   "metadata": {},
   "outputs": [
    {
     "name": "stdout",
     "output_type": "stream",
     "text": [
      "(77875, 5)\n",
      "       advertiser_id       revenue     total_age  assigned   assign_days\n",
      "count   3.706400e+04  3.706400e+04  37064.000000   37064.0  37064.000000\n",
      "mean    4.884758e+06  3.240157e+06    755.527479       1.0    116.642133\n",
      "std     3.706010e+06  4.127739e+07    546.049695       0.0     42.352120\n",
      "min     4.850000e+02  0.000000e+00      0.196505       1.0      0.000000\n",
      "25%     1.492554e+06  0.000000e+00    305.508772       1.0    136.000000\n",
      "50%     4.113742e+06  0.000000e+00    665.508772       1.0    138.000000\n",
      "75%     8.189328e+06  0.000000e+00   1123.508772       1.0    138.000000\n",
      "max     1.119963e+07  2.500000e+09   3993.508772       1.0    138.000000\n",
      "       advertiser_id       revenue     total_age  assigned  assign_days\n",
      "count   4.081100e+04  4.081100e+04  40811.000000   40811.0      40811.0\n",
      "mean    1.068360e+07  8.789278e+05    136.830942       0.0          0.0\n",
      "std     9.120300e+05  7.631119e+06    103.890138       0.0          0.0\n",
      "min     6.992000e+03  0.000000e+00      0.465532       0.0          0.0\n",
      "25%     1.079328e+07  0.000000e+00    136.508772       0.0          0.0\n",
      "50%     1.080457e+07  0.000000e+00    137.508772       0.0          0.0\n",
      "75%     1.081605e+07  0.000000e+00    138.508772       0.0          0.0\n",
      "max     1.082697e+07  5.883000e+08   3235.508772       0.0          0.0\n"
     ]
    }
   ],
   "source": [
    "#create new dataframe called df with just our cols of interest\n",
    "df = pd.DataFrame(sales[['advertiser_id', 'revenue', 'total_age','assigned', 'assign_days']]) \n",
    "print(df.shape)\n",
    "df.to_csv('clean_sales_indeed_ProductScienceHomework_22Oct2019.csv') #export to csv\n",
    "\n",
    "assigned     = df[df['assigned'] == 1] #split data into assigned\n",
    "not_assigned = df[df['assigned'] == 0] #split data into unassigned\n",
    "\n",
    "summary = assigned.describe()\n",
    "print(summary)\n",
    "summary = not_assigned.describe()\n",
    "print(summary)"
   ]
  },
  {
   "cell_type": "markdown",
   "metadata": {},
   "source": [
    "Q1. There are 77875 total leads in the cleaned dataset. There were 77891 leads in the raw dataset. 37064 were assigned to sales and 40811 were not assigned. The mean revenue for leads that were assigned was 3240157 compared to 878927.8  for those not assigned. The mean total_age of the account for leads that were assigned was 755 compared to 137 for those not assigned."
   ]
  },
  {
   "cell_type": "markdown",
   "metadata": {},
   "source": [
    "Q2. What are the most important metrics to consider when answering the problem statement?\n",
    "\n",
    "To answer the question - how much more did these leads spend because there was intervention. We cannot simply compare the two populations and compare the difference in revenue because they were not randomly assigned. To put it simply, the leads were assigned based on potential value, and we know there are differences in the populations (e.g. age). If we were designing this from scratch we could randomly assign leads and then test for differences in the means. Since we didn't do this, we cannot look at the difference between the means (3240157-878927.8) or the difference in total revenue and attribute it all to sales intervention.\n",
    "\n",
    "The question we are really interested in is if our assigned leads would have converted to revenue even without our intervention. This is a trickier problem to solve. We first need to consider the overall relationship between our data and revenue, and then we can test to see if sales intervention is a significant predictor of revenue.\n",
    "\n",
    "The main predictor we have here is total_age. I would first look at the correlation between total_age and revenue by developing a regression model. To see if sales is having an incremental increase, I would perform a stepwise multiple linear regression to see what additional variance in sales is explained once sales assignment is added to the model. I will explore if assignement as a categorical variable (0/1 not assigned/assigned) is more informative or of assign_days is more informative in predicting incremental increase."
   ]
  },
  {
   "cell_type": "markdown",
   "metadata": {},
   "source": [
    "There are several things that I might want to do before developing my regression models. One would be to scale my features using std or maxminscalar. I also might want to log transform my response variable (revenue) since I doesn't appear to be normally distributed. In the interest of time, I am not going to do those things now. I also am not sure about whether I want to include the data with revenue = 0. If I do include it, I should use zero inflated poisson regression. The revenue data has many zeros and regular MLR is not appropriate. I will use zero inflated poisson regression which is designed for this type of data. \n",
    "\n",
    "My first step will be to develop a GLM (poisson regression model) using the python library Statsmodels and then I will develop zero inflated poission model for the entire dataset. I chose to use statsmodels rather than sklearn because sklearn implements ordinary least squares regression (OLS). For this data which is not normally distributed and has many zeros, iteratively reweighted least squares regression (IRLS) is more appropriate. To my knowledge, IRLS is not implemented in sklearn, which is why I chose to use stats models. Sklearn also doesn't include zero inflated poisson regression. "
   ]
  },
  {
   "cell_type": "code",
   "execution_count": 16,
   "metadata": {},
   "outputs": [
    {
     "name": "stdout",
     "output_type": "stream",
     "text": [
      "                 Generalized Linear Model Regression Results                  \n",
      "==============================================================================\n",
      "Dep. Variable:                revenue   No. Observations:                77875\n",
      "Model:                            GLM   Df Residuals:                    77871\n",
      "Model Family:                 Poisson   Df Model:                            3\n",
      "Link Function:                    log   Scale:                          1.0000\n",
      "Method:                          IRLS   Log-Likelihood:            -6.4963e+11\n",
      "Date:                Tue, 29 Oct 2019   Deviance:                   1.2993e+12\n",
      "Time:                        12:34:13   Pearson chi2:                 2.10e+13\n",
      "No. Iterations:                    12                                         \n",
      "Covariance Type:            nonrobust                                         \n",
      "====================================================================================\n",
      "                       coef    std err          z      P>|z|      [0.025      0.975]\n",
      "------------------------------------------------------------------------------------\n",
      "Intercept           13.6558   5.33e-06   2.56e+06      0.000      13.656      13.656\n",
      "C(assigned)[T.1]     0.9159   1.11e-05   8.27e+04      0.000       0.916       0.916\n",
      "total_age            0.0002   5.26e-09   4.23e+04      0.000       0.000       0.000\n",
      "assign_days          0.0020   7.95e-08   2.56e+04      0.000       0.002       0.002\n",
      "====================================================================================\n"
     ]
    }
   ],
   "source": [
    "from patsy import dmatrices #patsy creates data matrices for statsmodels\n",
    "import statsmodels.api as sm\n",
    "\n",
    "formula = \"\"\"revenue ~ total_age  + assign_days + C(assigned)\"\"\" #assigned goes in as a categorical variable\n",
    "response, predictors = dmatrices(formula, df, return_type='dataframe')\n",
    "po_results = sm.GLM(response, predictors, family=sm.families.Poisson()).fit()\n",
    "print(po_results.summary())"
   ]
  },
  {
   "cell_type": "code",
   "execution_count": 17,
   "metadata": {},
   "outputs": [
    {
     "name": "stderr",
     "output_type": "stream",
     "text": [
      "//anaconda3/lib/python3.7/site-packages/scipy/stats/_discrete_distns.py:532: RuntimeWarning:\n",
      "\n",
      "floating point number truncated to an integer\n",
      "\n",
      "//anaconda3/lib/python3.7/site-packages/statsmodels/base/model.py:512: ConvergenceWarning:\n",
      "\n",
      "Maximum Likelihood optimization failed to converge. Check mle_retvals\n",
      "\n",
      "//anaconda3/lib/python3.7/site-packages/numpy/core/fromnumeric.py:86: RuntimeWarning:\n",
      "\n",
      "overflow encountered in reduce\n",
      "\n",
      "//anaconda3/lib/python3.7/site-packages/statsmodels/discrete/discrete_model.py:1199: RuntimeWarning:\n",
      "\n",
      "overflow encountered in multiply\n",
      "\n",
      "//anaconda3/lib/python3.7/site-packages/statsmodels/discrete/discrete_model.py:1199: RuntimeWarning:\n",
      "\n",
      "invalid value encountered in multiply\n",
      "\n",
      "//anaconda3/lib/python3.7/site-packages/statsmodels/discrete/count_model.py:267: RuntimeWarning:\n",
      "\n",
      "invalid value encountered in multiply\n",
      "\n",
      "//anaconda3/lib/python3.7/site-packages/numpy/core/fromnumeric.py:86: RuntimeWarning:\n",
      "\n",
      "overflow encountered in reduce\n",
      "\n"
     ]
    },
    {
     "name": "stdout",
     "output_type": "stream",
     "text": [
      "Warning: Desired error not necessarily achieved due to precision loss.\n",
      "         Current function value: 6536164.165031\n",
      "         Iterations: 0\n",
      "         Function evaluations: 16\n",
      "         Gradient evaluations: 4\n"
     ]
    },
    {
     "name": "stderr",
     "output_type": "stream",
     "text": [
      "//anaconda3/lib/python3.7/site-packages/statsmodels/discrete/count_model.py:518: RuntimeWarning:\n",
      "\n",
      "invalid value encountered in true_divide\n",
      "\n",
      "//anaconda3/lib/python3.7/site-packages/statsmodels/base/model.py:492: HessianInversionWarning:\n",
      "\n",
      "Inverting hessian failed, no bse or cov_params available\n",
      "\n",
      "//anaconda3/lib/python3.7/site-packages/statsmodels/base/model.py:512: ConvergenceWarning:\n",
      "\n",
      "Maximum Likelihood optimization failed to converge. Check mle_retvals\n",
      "\n",
      "//anaconda3/lib/python3.7/site-packages/scipy/stats/_discrete_distns.py:532: RuntimeWarning:\n",
      "\n",
      "floating point number truncated to an integer\n",
      "\n",
      "//anaconda3/lib/python3.7/site-packages/statsmodels/base/model.py:492: HessianInversionWarning:\n",
      "\n",
      "Inverting hessian failed, no bse or cov_params available\n",
      "\n"
     ]
    },
    {
     "name": "stdout",
     "output_type": "stream",
     "text": [
      "                     ZeroInflatedPoisson Regression Results                    \n",
      "===============================================================================\n",
      "Dep. Variable:                 revenue   No. Observations:                77875\n",
      "Model:             ZeroInflatedPoisson   Df Residuals:                    77871\n",
      "Method:                            MLE   Df Model:                            3\n",
      "Date:                 Tue, 29 Oct 2019   Pseudo R-squ.:                  -1.702\n",
      "Time:                         12:34:19   Log-Likelihood:            -5.0900e+11\n",
      "converged:                       False   LL-Null:                   -1.8837e+11\n",
      "Covariance Type:             nonrobust   LLR p-value:                     1.000\n",
      "====================================================================================\n",
      "                       coef    std err          z      P>|z|      [0.025      0.975]\n",
      "------------------------------------------------------------------------------------\n",
      "inflate_const        0.1000        nan        nan        nan         nan         nan\n",
      "Intercept           14.0892        nan        nan        nan         nan         nan\n",
      "C(assigned)[T.1]     0.0011        nan        nan        nan         nan         nan\n",
      "total_age            0.0007        nan        nan        nan         nan         nan\n",
      "assign_days          0.0010        nan        nan        nan         nan         nan\n",
      "====================================================================================\n"
     ]
    },
    {
     "name": "stderr",
     "output_type": "stream",
     "text": [
      "//anaconda3/lib/python3.7/site-packages/statsmodels/discrete/count_model.py:518: RuntimeWarning:\n",
      "\n",
      "invalid value encountered in true_divide\n",
      "\n",
      "//anaconda3/lib/python3.7/site-packages/statsmodels/base/model.py:492: HessianInversionWarning:\n",
      "\n",
      "Inverting hessian failed, no bse or cov_params available\n",
      "\n",
      "//anaconda3/lib/python3.7/site-packages/scipy/stats/_distn_infrastructure.py:901: RuntimeWarning:\n",
      "\n",
      "invalid value encountered in greater\n",
      "\n",
      "//anaconda3/lib/python3.7/site-packages/scipy/stats/_distn_infrastructure.py:901: RuntimeWarning:\n",
      "\n",
      "invalid value encountered in less\n",
      "\n",
      "//anaconda3/lib/python3.7/site-packages/scipy/stats/_distn_infrastructure.py:1892: RuntimeWarning:\n",
      "\n",
      "invalid value encountered in less_equal\n",
      "\n"
     ]
    }
   ],
   "source": [
    "formula = \"\"\"revenue ~ total_age  + assign_days + C(assigned)\"\"\"\n",
    "response, predictors = dmatrices(formula, df, return_type='dataframe')\n",
    "zip_results = sm.ZeroInflatedPoisson(response, predictors).fit()\n",
    "print(zip_results.summary())"
   ]
  },
  {
   "cell_type": "markdown",
   "metadata": {},
   "source": [
    "My ZIP model failed to converge. Although I do have parameter estimates, I am not able to interpret these results. In the interest of time, I am going to do a regression just for the revenue data > 0."
   ]
  },
  {
   "cell_type": "code",
   "execution_count": 18,
   "metadata": {},
   "outputs": [
    {
     "data": {
      "text/plain": [
       "(3339, 5)"
      ]
     },
     "execution_count": 18,
     "metadata": {},
     "output_type": "execute_result"
    }
   ],
   "source": [
    "df = df[df.revenue > 0] #selecting cells with only revenue >0\n",
    "df.shape"
   ]
  },
  {
   "cell_type": "code",
   "execution_count": 19,
   "metadata": {},
   "outputs": [
    {
     "name": "stdout",
     "output_type": "stream",
     "text": [
      "                 Generalized Linear Model Regression Results                  \n",
      "==============================================================================\n",
      "Dep. Variable:                revenue   No. Observations:                 3339\n",
      "Model:                            GLM   Df Residuals:                     3336\n",
      "Model Family:        NegativeBinomial   Df Model:                            2\n",
      "Link Function:                    log   Scale:                          1.0000\n",
      "Method:                          IRLS   Log-Likelihood:                -61470.\n",
      "Date:                Tue, 29 Oct 2019   Deviance:                       5924.3\n",
      "Time:                        12:34:20   Pearson chi2:                 1.19e+04\n",
      "No. Iterations:                   100                                         \n",
      "Covariance Type:            nonrobust                                         \n",
      "====================================================================================\n",
      "                       coef    std err          z      P>|z|      [0.025      0.975]\n",
      "------------------------------------------------------------------------------------\n",
      "Intercept           16.7649      0.024    693.157      0.000      16.718      16.812\n",
      "C(assigned)[T.1]     0.8991      0.041     22.080      0.000       0.819       0.979\n",
      "total_age            0.0007   4.45e-05     15.279      0.000       0.001       0.001\n",
      "====================================================================================\n"
     ]
    }
   ],
   "source": [
    "#Lets develop a regression with just the non-zero revenue, since we don't have zeros we use negative binomial\n",
    "formula = \"\"\"revenue ~ total_age  + C(assigned)\"\"\" #assigned goes in as a categorical variable\n",
    "response, predictors = dmatrices(formula, df, return_type='dataframe')\n",
    "nb_results = sm.GLM(response, predictors, family=sm.families.NegativeBinomial()).fit()\n",
    "print(nb_results.summary())"
   ]
  },
  {
   "cell_type": "markdown",
   "metadata": {},
   "source": [
    "The log likelihood is lower and deviance is lower than the models above, this model is a better representation of our data. Now, lets look at the parameters and see how we did. The coeficient for assigned is 0.90, this means that of the accounts that had a dsales, for every dollar of revenue, $0.90 are due to sales intervention. Lets look at the model with total_age only so we can describe that relationship and answer Q3."
   ]
  },
  {
   "cell_type": "code",
   "execution_count": 20,
   "metadata": {},
   "outputs": [
    {
     "name": "stdout",
     "output_type": "stream",
     "text": [
      "                 Generalized Linear Model Regression Results                  \n",
      "==============================================================================\n",
      "Dep. Variable:                revenue   No. Observations:                 3339\n",
      "Model:                            GLM   Df Residuals:                     3337\n",
      "Model Family:        NegativeBinomial   Df Model:                            1\n",
      "Link Function:                    log   Scale:                          1.0000\n",
      "Method:                          IRLS   Log-Likelihood:                -61702.\n",
      "Date:                Tue, 29 Oct 2019   Deviance:                       6389.6\n",
      "Time:                        12:34:20   Pearson chi2:                 1.62e+04\n",
      "No. Iterations:                   100                                         \n",
      "Covariance Type:            nonrobust                                         \n",
      "==============================================================================\n",
      "                 coef    std err          z      P>|z|      [0.025      0.975]\n",
      "------------------------------------------------------------------------------\n",
      "Intercept     17.0744      0.021    800.962      0.000      17.033      17.116\n",
      "total_age      0.0012   3.79e-05     32.531      0.000       0.001       0.001\n",
      "==============================================================================\n"
     ]
    }
   ],
   "source": [
    "#Lets look at total_age only\n",
    "formula = \"\"\"revenue ~ total_age\"\"\" \n",
    "response, predictors = dmatrices(formula, df, return_type='dataframe')\n",
    "nb_results = sm.GLM(response, predictors, family=sm.families.NegativeBinomial()).fit()\n",
    "print(nb_results.summary())"
   ]
  },
  {
   "cell_type": "markdown",
   "metadata": {},
   "source": [
    "Q3. The coefficient for total age is 0.0012 and it is significant. How do we interpret this? This means that for accounts that had revenue, for every additional account day we are likely to have an increase of 0.0012 cents of revenue.\n",
    "Q4. As mentioned above, sales has a strong incremental increase on revenue. The coeficient for assigned is 0.90, this means that for accounts that had revenue, $0.90 of every dollar of revenue is due to sales intervention."
   ]
  },
  {
   "cell_type": "raw",
   "metadata": {},
   "source": [
    "For Q5, Id like to look at whether the the day of the year of first revenue is a predictor of revenue (maybe customers are only buying at a certain time of the year)? \n",
    "note, I need to use datetime to convert first_revenue_date to day of year."
   ]
  },
  {
   "cell_type": "code",
   "execution_count": 23,
   "metadata": {},
   "outputs": [
    {
     "name": "stdout",
     "output_type": "stream",
     "text": [
      "<class 'pandas.core.frame.DataFrame'>\n",
      "Int64Index: 77891 entries, 77890 to 0\n",
      "Data columns (total 12 columns):\n",
      "Unnamed: 0                77891 non-null int64\n",
      "advertiser_id             77891 non-null int64\n",
      "assigned                  77891 non-null int64\n",
      "date_assignment_starts    77891 non-null datetime64[ns]\n",
      "date_assignment_ends      77891 non-null datetime64[ns]\n",
      "first_revenue_date        8433 non-null datetime64[ns]\n",
      "date_created              77891 non-null datetime64[ns]\n",
      "age                       77891 non-null int64\n",
      "assign_days               77891 non-null int64\n",
      "revenue                   3340 non-null float64\n",
      "False                     0 non-null float64\n",
      "total_age                 77891 non-null float64\n",
      "dtypes: datetime64[ns](4), float64(3), int64(5)\n",
      "memory usage: 7.7 MB\n"
     ]
    },
    {
     "data": {
      "text/html": [
       "<div>\n",
       "<style scoped>\n",
       "    .dataframe tbody tr th:only-of-type {\n",
       "        vertical-align: middle;\n",
       "    }\n",
       "\n",
       "    .dataframe tbody tr th {\n",
       "        vertical-align: top;\n",
       "    }\n",
       "\n",
       "    .dataframe thead th {\n",
       "        text-align: right;\n",
       "    }\n",
       "</style>\n",
       "<table border=\"1\" class=\"dataframe\">\n",
       "  <thead>\n",
       "    <tr style=\"text-align: right;\">\n",
       "      <th></th>\n",
       "      <th>Unnamed: 0</th>\n",
       "      <th>advertiser_id</th>\n",
       "      <th>assigned</th>\n",
       "      <th>date_assignment_starts</th>\n",
       "      <th>date_assignment_ends</th>\n",
       "      <th>first_revenue_date</th>\n",
       "      <th>date_created</th>\n",
       "      <th>age</th>\n",
       "      <th>assign_days</th>\n",
       "      <th>revenue</th>\n",
       "      <th>False</th>\n",
       "      <th>total_age</th>\n",
       "    </tr>\n",
       "  </thead>\n",
       "  <tbody>\n",
       "    <tr>\n",
       "      <td>77890</td>\n",
       "      <td>77890</td>\n",
       "      <td>11199632</td>\n",
       "      <td>1</td>\n",
       "      <td>2017-02-01</td>\n",
       "      <td>2017-06-19 12:12:37.888680</td>\n",
       "      <td>NaT</td>\n",
       "      <td>2017-02-28</td>\n",
       "      <td>-27</td>\n",
       "      <td>138</td>\n",
       "      <td>NaN</td>\n",
       "      <td>NaN</td>\n",
       "      <td>111.508772</td>\n",
       "    </tr>\n",
       "    <tr>\n",
       "      <td>77889</td>\n",
       "      <td>77889</td>\n",
       "      <td>11199601</td>\n",
       "      <td>1</td>\n",
       "      <td>2017-02-01</td>\n",
       "      <td>2017-06-19 12:12:37.888680</td>\n",
       "      <td>NaT</td>\n",
       "      <td>2017-02-28</td>\n",
       "      <td>-27</td>\n",
       "      <td>138</td>\n",
       "      <td>NaN</td>\n",
       "      <td>NaN</td>\n",
       "      <td>111.508772</td>\n",
       "    </tr>\n",
       "    <tr>\n",
       "      <td>77888</td>\n",
       "      <td>77888</td>\n",
       "      <td>11146603</td>\n",
       "      <td>1</td>\n",
       "      <td>2017-02-01</td>\n",
       "      <td>2017-06-19 12:12:37.888680</td>\n",
       "      <td>NaT</td>\n",
       "      <td>2017-02-24</td>\n",
       "      <td>-23</td>\n",
       "      <td>138</td>\n",
       "      <td>NaN</td>\n",
       "      <td>NaN</td>\n",
       "      <td>115.508772</td>\n",
       "    </tr>\n",
       "    <tr>\n",
       "      <td>77887</td>\n",
       "      <td>77887</td>\n",
       "      <td>11142171</td>\n",
       "      <td>1</td>\n",
       "      <td>2017-02-01</td>\n",
       "      <td>2017-06-19 12:12:37.888680</td>\n",
       "      <td>NaT</td>\n",
       "      <td>2017-02-23</td>\n",
       "      <td>-22</td>\n",
       "      <td>138</td>\n",
       "      <td>NaN</td>\n",
       "      <td>NaN</td>\n",
       "      <td>116.508772</td>\n",
       "    </tr>\n",
       "    <tr>\n",
       "      <td>77886</td>\n",
       "      <td>77886</td>\n",
       "      <td>11140889</td>\n",
       "      <td>1</td>\n",
       "      <td>2017-02-01</td>\n",
       "      <td>2017-06-19 12:12:37.888680</td>\n",
       "      <td>2017-02-23</td>\n",
       "      <td>2017-02-23</td>\n",
       "      <td>-22</td>\n",
       "      <td>138</td>\n",
       "      <td>9643000.0</td>\n",
       "      <td>NaN</td>\n",
       "      <td>116.508772</td>\n",
       "    </tr>\n",
       "  </tbody>\n",
       "</table>\n",
       "</div>"
      ],
      "text/plain": [
       "       Unnamed: 0  advertiser_id  assigned date_assignment_starts  \\\n",
       "77890       77890       11199632         1             2017-02-01   \n",
       "77889       77889       11199601         1             2017-02-01   \n",
       "77888       77888       11146603         1             2017-02-01   \n",
       "77887       77887       11142171         1             2017-02-01   \n",
       "77886       77886       11140889         1             2017-02-01   \n",
       "\n",
       "            date_assignment_ends first_revenue_date date_created  age  \\\n",
       "77890 2017-06-19 12:12:37.888680                NaT   2017-02-28  -27   \n",
       "77889 2017-06-19 12:12:37.888680                NaT   2017-02-28  -27   \n",
       "77888 2017-06-19 12:12:37.888680                NaT   2017-02-24  -23   \n",
       "77887 2017-06-19 12:12:37.888680                NaT   2017-02-23  -22   \n",
       "77886 2017-06-19 12:12:37.888680         2017-02-23   2017-02-23  -22   \n",
       "\n",
       "       assign_days    revenue  False   total_age  \n",
       "77890          138        NaN    NaN  111.508772  \n",
       "77889          138        NaN    NaN  111.508772  \n",
       "77888          138        NaN    NaN  115.508772  \n",
       "77887          138        NaN    NaN  116.508772  \n",
       "77886          138  9643000.0    NaN  116.508772  "
      ]
     },
     "execution_count": 23,
     "metadata": {},
     "output_type": "execute_result"
    }
   ],
   "source": [
    "salesog.info()\n",
    "salesog.head()"
   ]
  },
  {
   "cell_type": "code",
   "execution_count": 37,
   "metadata": {},
   "outputs": [
    {
     "data": {
      "text/plain": [
       "<matplotlib.axes._subplots.AxesSubplot at 0x1c25d518d0>"
      ]
     },
     "execution_count": 37,
     "metadata": {},
     "output_type": "execute_result"
    },
    {
     "data": {
      "image/png": "[encoded data removed]",
      "text/plain": [
       "<Figure size 432x288 with 2 Axes>"
      ]
     },
     "metadata": {
      "needs_background": "light"
     },
     "output_type": "display_data"
    }
   ],
   "source": [
    "#Lets calculate day of year\n",
    "df['first_revenue_date'] = salesog['first_revenue_date'] #add first_revenue_date\n",
    "df['day_of_year'] = df['first_revenue_date'].apply(lambda x: x.timetuple().tm_yday)#add day of year\n",
    "df.head()\n",
    "df.plot.scatter(x='day_of_year',y='revenue',c='assigned',colormap='RdBu')\n"
   ]
  },
  {
   "cell_type": "code",
   "execution_count": 39,
   "metadata": {},
   "outputs": [
    {
     "name": "stdout",
     "output_type": "stream",
     "text": [
      "                 Generalized Linear Model Regression Results                  \n",
      "==============================================================================\n",
      "Dep. Variable:                revenue   No. Observations:                 3339\n",
      "Model:                            GLM   Df Residuals:                     3335\n",
      "Model Family:        NegativeBinomial   Df Model:                            3\n",
      "Link Function:                    log   Scale:                          1.0000\n",
      "Method:                          IRLS   Log-Likelihood:                -61465.\n",
      "Date:                Tue, 29 Oct 2019   Deviance:                       5914.3\n",
      "Time:                        13:50:36   Pearson chi2:                 1.20e+04\n",
      "No. Iterations:                   100                                         \n",
      "Covariance Type:            nonrobust                                         \n",
      "====================================================================================\n",
      "                       coef    std err          z      P>|z|      [0.025      0.975]\n",
      "------------------------------------------------------------------------------------\n",
      "Intercept           16.7385      0.025    661.331      0.000      16.689      16.788\n",
      "C(assigned)[T.1]     0.8632      0.042     20.468      0.000       0.781       0.946\n",
      "total_age            0.0006   4.77e-05     13.287      0.000       0.001       0.001\n",
      "day_of_year          0.0007      0.000      3.095      0.002       0.000       0.001\n",
      "====================================================================================\n"
     ]
    }
   ],
   "source": [
    "#Lets add day of year to our model\n",
    "formula = \"\"\"revenue ~ total_age + day_of_year + C(assigned)\"\"\" #assigned goes in as a categorical variable\n",
    "response, predictors = dmatrices(formula, df, return_type='dataframe')\n",
    "doy_results = sm.GLM(response, predictors, family=sm.families.NegativeBinomial()).fit()\n",
    "print(doy_results.summary())"
   ]
  },
  {
   "cell_type": "markdown",
   "metadata": {},
   "source": [
    "Q5. Here we see that Yes, day_of_year is a significant predictor in our model. There is a slight improvement in this model as measured by a decrease in the log likelihood."
   ]
  }
 ],
 "metadata": {
  "kernelspec": {
   "display_name": "Python 3",
   "language": "python",
   "name": "python3"
  },
  "language_info": {
   "codemirror_mode": {
    "name": "ipython",
    "version": 3
   },
   "file_extension": ".py",
   "mimetype": "text/x-python",
   "name": "python",
   "nbconvert_exporter": "python",
   "pygments_lexer": "ipython3",
   "version": "3.7.3"
  }
 },
 "nbformat": 4,
 "nbformat_minor": 2
}
